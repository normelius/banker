{
 "cells": [
  {
   "cell_type": "code",
   "execution_count": 11,
   "metadata": {},
   "outputs": [],
   "source": [
    "import banker"
   ]
  },
  {
   "cell_type": "markdown",
   "metadata": {},
   "source": [
    "### Initial setup"
   ]
  },
  {
   "cell_type": "code",
   "execution_count": 7,
   "metadata": {},
   "outputs": [],
   "source": [
    "secret_id = \"d97f524e-c141-464c-88fe-41afc7cde69c\"\n",
    "secret_key = \"0f485063479475bd1641168676df711e73e16521572acf22b12bce5264cd4005ea9d46a58b32dff70be46d25b8d36d7de81d0715176df08c1931d78740bed2b7\"\n",
    "\n",
    "client = banker.Client()\n",
    "client.add_keys(secret_id, secret_key)\n",
    "client.submit_requisition(\"SWEDBANK_SWEDSESS\")"
   ]
  },
  {
   "cell_type": "markdown",
   "metadata": {},
   "source": [
    "### Find the account IDs"
   ]
  },
  {
   "cell_type": "code",
   "execution_count": null,
   "metadata": {},
   "outputs": [],
   "source": [
    "accounts = client.accounts()"
   ]
  },
  {
   "cell_type": "markdown",
   "metadata": {},
   "source": [
    "### Now we can generate transactions"
   ]
  },
  {
   "cell_type": "code",
   "execution_count": null,
   "metadata": {},
   "outputs": [],
   "source": [
    "transactions = client.transactions(\"YOUR_ACCOUNT_ID\")"
   ]
  }
 ],
 "metadata": {
  "kernelspec": {
   "display_name": "Python 3.10.6 ('banker')",
   "language": "python",
   "name": "python3"
  },
  "language_info": {
   "codemirror_mode": {
    "name": "ipython",
    "version": 3
   },
   "file_extension": ".py",
   "mimetype": "text/x-python",
   "name": "python",
   "nbconvert_exporter": "python",
   "pygments_lexer": "ipython3",
   "version": "3.10.6"
  },
  "orig_nbformat": 4,
  "vscode": {
   "interpreter": {
    "hash": "a3cf7141ecd90f3dedc87116d4c557029e236713030975ef6daec0fa77dbe04b"
   }
  }
 },
 "nbformat": 4,
 "nbformat_minor": 2
}
